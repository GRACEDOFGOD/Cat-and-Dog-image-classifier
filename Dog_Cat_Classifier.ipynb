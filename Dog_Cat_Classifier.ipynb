{
  "nbformat": 4,
  "nbformat_minor": 0,
  "metadata": {
    "colab": {
      "provenance": []
    },
    "kernelspec": {
      "name": "python3",
      "display_name": "Python 3"
    },
    "language_info": {
      "name": "python"
    }
  },
  "cells": [
    {
      "cell_type": "markdown",
      "source": [
        "# Importing libraries"
      ],
      "metadata": {
        "id": "zW7YSmnMmrhv"
      }
    },
    {
      "cell_type": "code",
      "execution_count": 2,
      "metadata": {
        "colab": {
          "base_uri": "https://localhost:8080/"
        },
        "id": "abK6mhHthvbi",
        "outputId": "4a943cd0-f1c8-4eef-d811-34ab5e22f8ea"
      },
      "outputs": [
        {
          "output_type": "stream",
          "name": "stdout",
          "text": [
            "TensorFlow version: 2.18.0\n"
          ]
        }
      ],
      "source": [
        "# Step 1: Import required libraries\n",
        "import tensorflow as tf\n",
        "from tensorflow.keras.preprocessing.image import ImageDataGenerator\n",
        "import matplotlib.pyplot as plt\n",
        "import numpy as np\n",
        "import os\n",
        "import zipfile\n",
        "import shutil\n",
        "import random\n",
        "import pathlib\n",
        "\n",
        "print(\"TensorFlow version:\", tf.__version__)\n"
      ]
    },
    {
      "cell_type": "markdown",
      "source": [
        "# Downloading Prepared datasets"
      ],
      "metadata": {
        "id": "4wAh1uuKmq-f"
      }
    },
    {
      "cell_type": "code",
      "source": [
        "# ✅ Step 2: Download the dataset\n",
        "_URL = 'https://storage.googleapis.com/mledu-datasets/cats_and_dogs_filtered.zip'\n",
        "zip_dir = tf.keras.utils.get_file('cats_and_dogs_filtered.zip', origin=_URL, extract=True)\n",
        "base_dir = os.path.join(os.path.dirname(zip_dir), 'cats_and_dogs_filtered')\n",
        "\n",
        "train_dir = os.path.join(base_dir, 'train')\n",
        "validation_dir = os.path.join(base_dir, 'validation')\n",
        "\n",
        "# Directory with training cat/dog pictures\n",
        "train_cats_dir = os.path.join(train_dir, 'cats')\n",
        "train_dogs_dir = os.path.join(train_dir, 'dogs')\n",
        "\n",
        "# Directory with validation cat/dog pictures\n",
        "validation_cats_dir = os.path.join(validation_dir, 'cats')\n",
        "validation_dogs_dir = os.path.join(validation_dir, 'dogs')\n",
        "\n",
        "# Check if the directories exist before listing\n",
        "if os.path.exists(train_cats_dir):\n",
        "    print(f\"Training cat images: {len(os.listdir(train_cats_dir))}\")\n",
        "else:\n",
        "    print(f\"Error: Training cat directory not found at {train_cats_dir}\")\n",
        "    # You might want to inspect the contents of base_dir here to see what was extracted\n",
        "    # print(f\"Contents of base_dir: {os.listdir(base_dir)}\")\n",
        "\n",
        "if os.path.exists(train_dogs_dir):\n",
        "    print(f\"Training dog images: {len(os.listdir(train_dogs_dir))}\")\n",
        "else:\n",
        "    print(f\"Error: Training dog directory not found at {train_dogs_dir}\")\n",
        "\n",
        "# You might want to add similar checks for validation directories as well\n",
        "if os.path.exists(validation_cats_dir):\n",
        "    print(f\"Validation cat images: {len(os.listdir(validation_cats_dir))}\")\n",
        "else:\n",
        "    print(f\"Error: Validation cat directory not found at {validation_cats_dir}\")\n",
        "\n",
        "if os.path.exists(validation_dogs_dir):\n",
        "    print(f\"Validation dog images: {len(os.listdir(validation_dogs_dir))}\")\n",
        "else:\n",
        "    print(f\"Error: Validation dog directory not found at {validation_dogs_dir}\")"
      ],
      "metadata": {
        "colab": {
          "base_uri": "https://localhost:8080/"
        },
        "id": "7BCNmqTIm-FW",
        "outputId": "385783ae-9a0a-48aa-9aa8-b9f3e0113d8a"
      },
      "execution_count": 4,
      "outputs": [
        {
          "output_type": "stream",
          "name": "stdout",
          "text": [
            "Error: Training cat directory not found at /root/.keras/datasets/cats_and_dogs_filtered/train/cats\n",
            "Error: Training dog directory not found at /root/.keras/datasets/cats_and_dogs_filtered/train/dogs\n",
            "Error: Validation cat directory not found at /root/.keras/datasets/cats_and_dogs_filtered/validation/cats\n",
            "Error: Validation dog directory not found at /root/.keras/datasets/cats_and_dogs_filtered/validation/dogs\n"
          ]
        }
      ]
    },
    {
      "cell_type": "code",
      "source": [
        "# Define constants\n",
        "BATCH_SIZE = 32\n",
        "IMG_HEIGHT = 150\n",
        "IMG_WIDTH = 150\n",
        "\n",
        "# ImageDataGenerators for train, validation, and test\n",
        "train_image_generator = ImageDataGenerator(rescale=1./255)\n",
        "validation_image_generator = ImageDataGenerator(rescale=1./255)\n",
        "\n",
        "# Check if train_dir and validation_dir exist before calling flow_from_directory\n",
        "print(f\"Checking if train_dir exists: {os.path.exists(train_dir)}\")\n",
        "if os.path.exists(train_dir):\n",
        "    print(f\"Contents of train_dir: {os.listdir(train_dir)}\")\n",
        "else:\n",
        "    print(f\"Error: train_dir not found at {train_dir}\")\n",
        "\n",
        "print(f\"Checking if validation_dir exists: {os.path.exists(validation_dir)}\")\n",
        "if os.path.exists(validation_dir):\n",
        "    print(f\"Contents of validation_dir: {os.listdir(validation_dir)}\")\n",
        "else:\n",
        "    print(f\"Error: validation_dir not found at {validation_dir}\")\n",
        "\n",
        "# Add checks for the subdirectories as well, as flow_from_directory expects them\n",
        "train_cats_dir_check = os.path.join(train_dir, 'cats')\n",
        "train_dogs_dir_check = os.path.join(train_dir, 'dogs')\n",
        "validation_cats_dir_check = os.path.join(validation_dir, 'cats')\n",
        "validation_dogs_dir_check = os.path.join(validation_dir, 'dogs')\n",
        "\n",
        "print(f\"Checking if {train_cats_dir_check} exists: {os.path.exists(train_cats_dir_check)}\")\n",
        "print(f\"Checking if {train_dogs_dir_check} exists: {os.path.exists(train_dogs_dir_check)}\")\n",
        "print(f\"Checking if {validation_cats_dir_check} exists: {os.path.exists(validation_cats_dir_check)}\")\n",
        "print(f\"Checking if {validation_dogs_dir_check} exists: {os.path.exists(validation_dogs_dir_check)}\")\n",
        "\n",
        "\n",
        "# Load and preprocess images\n",
        "# The following lines will still cause the error if the directories don't exist,\n",
        "# but the print statements above will provide more context.\n",
        "# Add a check here to only call flow_from_directory if the necessary directories exist\n",
        "if os.path.exists(train_dir) and os.path.exists(validation_dir):\n",
        "    train_data_gen = train_image_generator.flow_from_directory(\n",
        "        directory=train_dir,\n",
        "        target_size=(IMG_HEIGHT, IMG_WIDTH),\n",
        "        batch_size=BATCH_SIZE,\n",
        "        class_mode='binary'\n",
        "    )\n",
        "\n",
        "    validation_data_gen = validation_image_generator.flow_from_directory(\n",
        "        directory=validation_dir,\n",
        "        target_size=(IMG_HEIGHT, IMG_WIDTH),\n",
        "        batch_size=BATCH_SIZE,\n",
        "        class_mode='binary'\n",
        "    )\n",
        "    print(\"Successfully created data generators.\")\n",
        "else:\n",
        "    print(\"Skipping data generator creation because train_dir or validation_dir were not found.\")"
      ],
      "metadata": {
        "colab": {
          "base_uri": "https://localhost:8080/"
        },
        "id": "QDHUGI0ZnaKi",
        "outputId": "663d9b9c-5c5a-4531-a3f2-d725eff08fc7"
      },
      "execution_count": 8,
      "outputs": [
        {
          "output_type": "stream",
          "name": "stdout",
          "text": [
            "Checking if train_dir exists: False\n",
            "Error: train_dir not found at /root/.keras/datasets/cats_and_dogs_filtered/train\n",
            "Checking if validation_dir exists: False\n",
            "Error: validation_dir not found at /root/.keras/datasets/cats_and_dogs_filtered/validation\n",
            "Checking if /root/.keras/datasets/cats_and_dogs_filtered/train/cats exists: False\n",
            "Checking if /root/.keras/datasets/cats_and_dogs_filtered/train/dogs exists: False\n",
            "Checking if /root/.keras/datasets/cats_and_dogs_filtered/validation/cats exists: False\n",
            "Checking if /root/.keras/datasets/cats_and_dogs_filtered/validation/dogs exists: False\n",
            "Skipping data generator creation because train_dir or validation_dir were not found.\n"
          ]
        }
      ]
    }
  ]
}